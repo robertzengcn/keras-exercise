{
 "cells": [
  {
   "cell_type": "code",
   "execution_count": 1,
   "metadata": {},
   "outputs": [
    {
     "name": "stderr",
     "output_type": "stream",
     "text": [
      "2025-02-19 08:01:53.306287: I external/local_xla/xla/tsl/cuda/cudart_stub.cc:32] Could not find cuda drivers on your machine, GPU will not be used.\n",
      "2025-02-19 08:01:53.609936: I external/local_xla/xla/tsl/cuda/cudart_stub.cc:32] Could not find cuda drivers on your machine, GPU will not be used.\n",
      "2025-02-19 08:01:53.862804: E external/local_xla/xla/stream_executor/cuda/cuda_fft.cc:477] Unable to register cuFFT factory: Attempting to register factory for plugin cuFFT when one has already been registered\n",
      "WARNING: All log messages before absl::InitializeLog() is called are written to STDERR\n",
      "E0000 00:00:1739952114.142448   30247 cuda_dnn.cc:8310] Unable to register cuDNN factory: Attempting to register factory for plugin cuDNN when one has already been registered\n",
      "E0000 00:00:1739952114.192603   30247 cuda_blas.cc:1418] Unable to register cuBLAS factory: Attempting to register factory for plugin cuBLAS when one has already been registered\n",
      "2025-02-19 08:01:54.695378: I tensorflow/core/platform/cpu_feature_guard.cc:210] This TensorFlow binary is optimized to use available CPU instructions in performance-critical operations.\n",
      "To enable the following instructions: AVX2 FMA, in other operations, rebuild TensorFlow with the appropriate compiler flags.\n"
     ]
    }
   ],
   "source": [
    "import numpy as np\n",
    "from tensorflow.keras.preprocessing.text import one_hot\n",
    "from tensorflow.keras.preprocessing.sequence import pad_sequences\n",
    "from tensorflow.keras.models import Sequential\n",
    "from tensorflow.keras.layers import Dense\n",
    "from tensorflow.keras.layers import Flatten\n",
    "from tensorflow.keras.layers import Embedding\n"
   ]
  },
  {
   "cell_type": "markdown",
   "metadata": {},
   "source": [
    "https://github.com/codebasics/deep-learning-keras-tf-tutorial/blob/master/22_word_embedding/supervised_word_embeddings.ipynb"
   ]
  },
  {
   "cell_type": "code",
   "execution_count": 2,
   "metadata": {},
   "outputs": [],
   "source": [
    "reviews=['nice food',\n",
    "         'amazing restaurant',\n",
    "         'too good',\n",
    "         'just loved it',\n",
    "         'will go again',\n",
    "         'horrible food',\n",
    "         'never go there',\n",
    "         'poor service',\n",
    "          'poor quality',\n",
    "          'need imporvement']\n",
    "    \n",
    "sentiment = np.array([1,1,1,1,1,0,0,0,0,0])"
   ]
  },
  {
   "cell_type": "code",
   "execution_count": 3,
   "metadata": {},
   "outputs": [
    {
     "data": {
      "text/plain": [
       "[61, 185]"
      ]
     },
     "execution_count": 3,
     "metadata": {},
     "output_type": "execute_result"
    }
   ],
   "source": [
    "one_hot(\"amazing restaurant\",500)"
   ]
  },
  {
   "cell_type": "code",
   "execution_count": 4,
   "metadata": {},
   "outputs": [
    {
     "name": "stdout",
     "output_type": "stream",
     "text": [
      "[[23, 40], [14, 22], [35, 20], [37, 6, 46], [27, 19, 2], [29, 40], [21, 19, 19], [27, 2], [27, 2], [38, 25]]\n"
     ]
    }
   ],
   "source": [
    "vocab_size=50\n",
    "encoded_reviews=[one_hot(d,vocab_size) for d in reviews]\n",
    "print(encoded_reviews)\n"
   ]
  },
  {
   "cell_type": "code",
   "execution_count": 5,
   "metadata": {},
   "outputs": [
    {
     "name": "stdout",
     "output_type": "stream",
     "text": [
      "[[23 40  0]\n",
      " [14 22  0]\n",
      " [35 20  0]\n",
      " [37  6 46]\n",
      " [27 19  2]\n",
      " [29 40  0]\n",
      " [21 19 19]\n",
      " [27  2  0]\n",
      " [27  2  0]\n",
      " [38 25  0]]\n"
     ]
    }
   ],
   "source": [
    "max_length=3\n",
    "padded_reviews=pad_sequences(encoded_reviews,maxlen=max_length,padding='post')\n",
    "print(padded_reviews)"
   ]
  },
  {
   "cell_type": "code",
   "execution_count": 6,
   "metadata": {},
   "outputs": [],
   "source": [
    "embeded_vector_size=5"
   ]
  },
  {
   "cell_type": "code",
   "execution_count": 7,
   "metadata": {},
   "outputs": [
    {
     "name": "stderr",
     "output_type": "stream",
     "text": [
      "/workspaces/keras-exercise/lib/python3.12/site-packages/keras/src/layers/core/embedding.py:90: UserWarning: Argument `input_length` is deprecated. Just remove it.\n",
      "  warnings.warn(\n"
     ]
    }
   ],
   "source": [
    "model=Sequential()\n",
    "model.add(Embedding(vocab_size,embeded_vector_size,input_length=max_length,name='embedding'))\n",
    "model.add(Flatten())\n",
    "model.add(Dense(1,activation='sigmoid'))"
   ]
  },
  {
   "cell_type": "code",
   "execution_count": 8,
   "metadata": {},
   "outputs": [],
   "source": [
    "X=padded_reviews\n",
    "y=sentiment"
   ]
  },
  {
   "cell_type": "code",
   "execution_count": 9,
   "metadata": {},
   "outputs": [
    {
     "name": "stderr",
     "output_type": "stream",
     "text": [
      "2025-02-19 08:02:03.303808: E external/local_xla/xla/stream_executor/cuda/cuda_driver.cc:152] failed call to cuInit: INTERNAL: CUDA error: Failed call to cuInit: UNKNOWN ERROR (303)\n"
     ]
    },
    {
     "data": {
      "text/html": [
       "<pre style=\"white-space:pre;overflow-x:auto;line-height:normal;font-family:Menlo,'DejaVu Sans Mono',consolas,'Courier New',monospace\"><span style=\"font-weight: bold\">Model: \"sequential\"</span>\n",
       "</pre>\n"
      ],
      "text/plain": [
       "\u001b[1mModel: \"sequential\"\u001b[0m\n"
      ]
     },
     "metadata": {},
     "output_type": "display_data"
    },
    {
     "data": {
      "text/html": [
       "<pre style=\"white-space:pre;overflow-x:auto;line-height:normal;font-family:Menlo,'DejaVu Sans Mono',consolas,'Courier New',monospace\">┏━━━━━━━━━━━━━━━━━━━━━━━━━━━━━━━━━┳━━━━━━━━━━━━━━━━━━━━━━━━┳━━━━━━━━━━━━━━━┓\n",
       "┃<span style=\"font-weight: bold\"> Layer (type)                    </span>┃<span style=\"font-weight: bold\"> Output Shape           </span>┃<span style=\"font-weight: bold\">       Param # </span>┃\n",
       "┡━━━━━━━━━━━━━━━━━━━━━━━━━━━━━━━━━╇━━━━━━━━━━━━━━━━━━━━━━━━╇━━━━━━━━━━━━━━━┩\n",
       "│ embedding (<span style=\"color: #0087ff; text-decoration-color: #0087ff\">Embedding</span>)           │ ?                      │   <span style=\"color: #00af00; text-decoration-color: #00af00\">0</span> (unbuilt) │\n",
       "├─────────────────────────────────┼────────────────────────┼───────────────┤\n",
       "│ flatten (<span style=\"color: #0087ff; text-decoration-color: #0087ff\">Flatten</span>)               │ ?                      │   <span style=\"color: #00af00; text-decoration-color: #00af00\">0</span> (unbuilt) │\n",
       "├─────────────────────────────────┼────────────────────────┼───────────────┤\n",
       "│ dense (<span style=\"color: #0087ff; text-decoration-color: #0087ff\">Dense</span>)                   │ ?                      │   <span style=\"color: #00af00; text-decoration-color: #00af00\">0</span> (unbuilt) │\n",
       "└─────────────────────────────────┴────────────────────────┴───────────────┘\n",
       "</pre>\n"
      ],
      "text/plain": [
       "┏━━━━━━━━━━━━━━━━━━━━━━━━━━━━━━━━━┳━━━━━━━━━━━━━━━━━━━━━━━━┳━━━━━━━━━━━━━━━┓\n",
       "┃\u001b[1m \u001b[0m\u001b[1mLayer (type)                   \u001b[0m\u001b[1m \u001b[0m┃\u001b[1m \u001b[0m\u001b[1mOutput Shape          \u001b[0m\u001b[1m \u001b[0m┃\u001b[1m \u001b[0m\u001b[1m      Param #\u001b[0m\u001b[1m \u001b[0m┃\n",
       "┡━━━━━━━━━━━━━━━━━━━━━━━━━━━━━━━━━╇━━━━━━━━━━━━━━━━━━━━━━━━╇━━━━━━━━━━━━━━━┩\n",
       "│ embedding (\u001b[38;5;33mEmbedding\u001b[0m)           │ ?                      │   \u001b[38;5;34m0\u001b[0m (unbuilt) │\n",
       "├─────────────────────────────────┼────────────────────────┼───────────────┤\n",
       "│ flatten (\u001b[38;5;33mFlatten\u001b[0m)               │ ?                      │   \u001b[38;5;34m0\u001b[0m (unbuilt) │\n",
       "├─────────────────────────────────┼────────────────────────┼───────────────┤\n",
       "│ dense (\u001b[38;5;33mDense\u001b[0m)                   │ ?                      │   \u001b[38;5;34m0\u001b[0m (unbuilt) │\n",
       "└─────────────────────────────────┴────────────────────────┴───────────────┘\n"
      ]
     },
     "metadata": {},
     "output_type": "display_data"
    },
    {
     "data": {
      "text/html": [
       "<pre style=\"white-space:pre;overflow-x:auto;line-height:normal;font-family:Menlo,'DejaVu Sans Mono',consolas,'Courier New',monospace\"><span style=\"font-weight: bold\"> Total params: </span><span style=\"color: #00af00; text-decoration-color: #00af00\">0</span> (0.00 B)\n",
       "</pre>\n"
      ],
      "text/plain": [
       "\u001b[1m Total params: \u001b[0m\u001b[38;5;34m0\u001b[0m (0.00 B)\n"
      ]
     },
     "metadata": {},
     "output_type": "display_data"
    },
    {
     "data": {
      "text/html": [
       "<pre style=\"white-space:pre;overflow-x:auto;line-height:normal;font-family:Menlo,'DejaVu Sans Mono',consolas,'Courier New',monospace\"><span style=\"font-weight: bold\"> Trainable params: </span><span style=\"color: #00af00; text-decoration-color: #00af00\">0</span> (0.00 B)\n",
       "</pre>\n"
      ],
      "text/plain": [
       "\u001b[1m Trainable params: \u001b[0m\u001b[38;5;34m0\u001b[0m (0.00 B)\n"
      ]
     },
     "metadata": {},
     "output_type": "display_data"
    },
    {
     "data": {
      "text/html": [
       "<pre style=\"white-space:pre;overflow-x:auto;line-height:normal;font-family:Menlo,'DejaVu Sans Mono',consolas,'Courier New',monospace\"><span style=\"font-weight: bold\"> Non-trainable params: </span><span style=\"color: #00af00; text-decoration-color: #00af00\">0</span> (0.00 B)\n",
       "</pre>\n"
      ],
      "text/plain": [
       "\u001b[1m Non-trainable params: \u001b[0m\u001b[38;5;34m0\u001b[0m (0.00 B)\n"
      ]
     },
     "metadata": {},
     "output_type": "display_data"
    }
   ],
   "source": [
    "model.compile(optimizer='adam',loss='binary_crossentropy',metrics=['accuracy'])\n",
    "model.summary()"
   ]
  },
  {
   "cell_type": "code",
   "execution_count": 10,
   "metadata": {},
   "outputs": [
    {
     "data": {
      "text/plain": [
       "<keras.src.callbacks.history.History at 0x7f5ffa6a87a0>"
      ]
     },
     "execution_count": 10,
     "metadata": {},
     "output_type": "execute_result"
    }
   ],
   "source": [
    "model.fit(X,y,epochs=50,verbose=0)"
   ]
  },
  {
   "cell_type": "code",
   "execution_count": 11,
   "metadata": {},
   "outputs": [
    {
     "name": "stdout",
     "output_type": "stream",
     "text": [
      "\u001b[1m1/1\u001b[0m \u001b[32m━━━━━━━━━━━━━━━━━━━━\u001b[0m\u001b[37m\u001b[0m \u001b[1m0s\u001b[0m 213ms/step - accuracy: 1.0000 - loss: 0.6155\n"
     ]
    },
    {
     "data": {
      "text/plain": [
       "1.0"
      ]
     },
     "execution_count": 11,
     "metadata": {},
     "output_type": "execute_result"
    }
   ],
   "source": [
    "loss, accuracy=model.evaluate(X,y)\n",
    "accuracy"
   ]
  },
  {
   "cell_type": "code",
   "execution_count": 12,
   "metadata": {},
   "outputs": [
    {
     "data": {
      "text/plain": [
       "array([[-0.05003158, -0.01737197, -0.03031299,  0.0081967 ,  0.02060629],\n",
       "       [-0.03797647,  0.00948907,  0.0427465 ,  0.02690084, -0.02931634],\n",
       "       [ 0.07531942,  0.0598223 ,  0.05175987,  0.00635828, -0.11105137],\n",
       "       [-0.04092752, -0.01544689, -0.00562739, -0.02158276, -0.00384442],\n",
       "       [-0.00716941, -0.02828415, -0.00098965, -0.03599247, -0.048956  ],\n",
       "       [-0.02716169, -0.01258202, -0.01705146, -0.02403667,  0.02204956],\n",
       "       [-0.03460231, -0.02184718, -0.02892784, -0.07101046,  0.03700886],\n",
       "       [-0.02964141,  0.03767545,  0.04772966,  0.02362038,  0.03582178],\n",
       "       [ 0.01099309, -0.04484179,  0.00792954,  0.00789192,  0.03234233],\n",
       "       [ 0.04694739, -0.02594122, -0.01875185, -0.00539271, -0.00315803],\n",
       "       [-0.00716911,  0.04683744, -0.01997458, -0.03291408,  0.02623084],\n",
       "       [-0.04888376, -0.01333563, -0.00482555, -0.01280195,  0.01747878],\n",
       "       [-0.03434112, -0.01434273,  0.03314784, -0.01059492,  0.03847399],\n",
       "       [ 0.02838831, -0.03998798,  0.03795714,  0.04896155, -0.04864507],\n",
       "       [-0.01735148,  0.09208849, -0.06334368, -0.06302801, -0.03908686],\n",
       "       [-0.02705293, -0.03993367, -0.03703241,  0.01325143, -0.007174  ],\n",
       "       [ 0.03468497, -0.04697613,  0.04199005, -0.00722713,  0.02581363],\n",
       "       [-0.01000326,  0.03371758,  0.03694263, -0.0426191 , -0.04878721],\n",
       "       [-0.04815012, -0.00717031,  0.02725932, -0.01554698, -0.04284673],\n",
       "       [ 0.0346886 ,  0.05061943, -0.05735525,  0.03806372,  0.06556645],\n",
       "       [-0.04602467, -0.08407964, -0.01339904, -0.07092535,  0.0286583 ],\n",
       "       [ 0.02147555, -0.0548907 ,  0.07933609,  0.04509556,  0.02341897],\n",
       "       [-0.08715114, -0.02309949, -0.04682993, -0.0632052 ,  0.02012374],\n",
       "       [-0.07185608,  0.09594059, -0.09548093, -0.09826066, -0.0454592 ],\n",
       "       [-0.01549488,  0.04961338,  0.01783562,  0.04144026,  0.01415617],\n",
       "       [ 0.06708471,  0.08775911,  0.03992532,  0.0518595 , -0.08496263],\n",
       "       [ 0.00751561, -0.02919595, -0.04095222,  0.02089549,  0.04558339],\n",
       "       [ 0.00157925, -0.02219039,  0.06895646,  0.03524446,  0.05846278],\n",
       "       [ 0.03165218, -0.00994412, -0.04952914, -0.0359869 ,  0.01983568],\n",
       "       [ 0.01557283, -0.07513601,  0.09486264,  0.03516863,  0.01264136],\n",
       "       [ 0.04284598, -0.02014554,  0.02523471,  0.00200564,  0.04928383],\n",
       "       [-0.02294494, -0.0278931 ,  0.02907652, -0.03139125,  0.04557386],\n",
       "       [-0.02962604, -0.03146513,  0.01272972,  0.04886093, -0.03358394],\n",
       "       [ 0.02999307,  0.0129092 , -0.0125952 ,  0.01678729,  0.04565629],\n",
       "       [-0.04651484, -0.00104322, -0.03037694, -0.00060512, -0.00926479],\n",
       "       [-0.04784632,  0.08939882, -0.0206033 , -0.04814636, -0.05955036],\n",
       "       [-0.02033722, -0.01999434, -0.00648445,  0.04523872,  0.00296326],\n",
       "       [-0.0981122 ,  0.08607095, -0.00020215, -0.09959568, -0.00835865],\n",
       "       [ 0.03893932, -0.04026576,  0.05392636,  0.03027824,  0.05556878],\n",
       "       [-0.01423919,  0.01214049, -0.03202184,  0.02527152, -0.02044172],\n",
       "       [-0.02151013,  0.01651642, -0.0388476 ,  0.04709483,  0.01948658],\n",
       "       [ 0.00172343, -0.02882365,  0.00761347,  0.01076774,  0.03463319],\n",
       "       [-0.04001956, -0.02867628,  0.03684895,  0.02300365,  0.03232292],\n",
       "       [ 0.02514454,  0.02151797,  0.03428983,  0.03143049, -0.03649557],\n",
       "       [ 0.03184763,  0.01130408, -0.04872726,  0.01077554,  0.01429445],\n",
       "       [ 0.0384191 ,  0.02456835, -0.00858377, -0.03841156,  0.0478518 ],\n",
       "       [ 0.02976317, -0.02588024,  0.06217926, -0.06360756, -0.06821022],\n",
       "       [-0.01248787,  0.02772195,  0.04852811,  0.04336998,  0.0153611 ],\n",
       "       [ 0.01592913,  0.0377305 ,  0.03090325,  0.04893924, -0.03233703],\n",
       "       [ 0.01103938,  0.04850303, -0.02642089,  0.01740381,  0.04435759]],\n",
       "      dtype=float32)"
      ]
     },
     "execution_count": 12,
     "metadata": {},
     "output_type": "execute_result"
    }
   ],
   "source": [
    "weights=model.get_layer('embedding').get_weights()[0]\n",
    "weights"
   ]
  },
  {
   "cell_type": "code",
   "execution_count": 13,
   "metadata": {},
   "outputs": [
    {
     "data": {
      "text/plain": [
       "50"
      ]
     },
     "execution_count": 13,
     "metadata": {},
     "output_type": "execute_result"
    }
   ],
   "source": [
    "len(weights)"
   ]
  }
 ],
 "metadata": {
  "kernelspec": {
   "display_name": "keras-exercise",
   "language": "python",
   "name": "python3"
  },
  "language_info": {
   "codemirror_mode": {
    "name": "ipython",
    "version": 3
   },
   "file_extension": ".py",
   "mimetype": "text/x-python",
   "name": "python",
   "nbconvert_exporter": "python",
   "pygments_lexer": "ipython3",
   "version": "3.12.8"
  }
 },
 "nbformat": 4,
 "nbformat_minor": 2
}
