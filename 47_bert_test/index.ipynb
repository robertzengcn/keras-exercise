{
 "cells": [
  {
   "cell_type": "code",
   "execution_count": 1,
   "metadata": {},
   "outputs": [
    {
     "name": "stderr",
     "output_type": "stream",
     "text": [
      "2025-03-13 08:02:23.914715: I external/local_xla/xla/tsl/cuda/cudart_stub.cc:32] Could not find cuda drivers on your machine, GPU will not be used.\n",
      "2025-03-13 08:02:24.123262: I external/local_xla/xla/tsl/cuda/cudart_stub.cc:32] Could not find cuda drivers on your machine, GPU will not be used.\n",
      "2025-03-13 08:02:24.313635: E external/local_xla/xla/stream_executor/cuda/cuda_fft.cc:477] Unable to register cuFFT factory: Attempting to register factory for plugin cuFFT when one has already been registered\n",
      "WARNING: All log messages before absl::InitializeLog() is called are written to STDERR\n",
      "E0000 00:00:1741852944.478112    4112 cuda_dnn.cc:8310] Unable to register cuDNN factory: Attempting to register factory for plugin cuDNN when one has already been registered\n",
      "E0000 00:00:1741852944.522826    4112 cuda_blas.cc:1418] Unable to register cuBLAS factory: Attempting to register factory for plugin cuBLAS when one has already been registered\n",
      "2025-03-13 08:02:24.925507: I tensorflow/core/platform/cpu_feature_guard.cc:210] This TensorFlow binary is optimized to use available CPU instructions in performance-critical operations.\n",
      "To enable the following instructions: AVX2 FMA, in other operations, rebuild TensorFlow with the appropriate compiler flags.\n",
      "/workspaces/keras-exercise/lib/python3.12/site-packages/tqdm/auto.py:21: TqdmWarning: IProgress not found. Please update jupyter and ipywidgets. See https://ipywidgets.readthedocs.io/en/stable/user_install.html\n",
      "  from .autonotebook import tqdm as notebook_tqdm\n"
     ]
    }
   ],
   "source": [
    "import tensorflow as tf\n",
    "import tensorflow_hub as hub\n",
    "import tensorflow_text as text\n",
    "import keras_nlp"
   ]
  },
  {
   "cell_type": "code",
   "execution_count": 2,
   "metadata": {},
   "outputs": [
    {
     "data": {
      "text/html": [
       "<div>\n",
       "<style scoped>\n",
       "    .dataframe tbody tr th:only-of-type {\n",
       "        vertical-align: middle;\n",
       "    }\n",
       "\n",
       "    .dataframe tbody tr th {\n",
       "        vertical-align: top;\n",
       "    }\n",
       "\n",
       "    .dataframe thead th {\n",
       "        text-align: right;\n",
       "    }\n",
       "</style>\n",
       "<table border=\"1\" class=\"dataframe\">\n",
       "  <thead>\n",
       "    <tr style=\"text-align: right;\">\n",
       "      <th></th>\n",
       "      <th>Category</th>\n",
       "      <th>Message</th>\n",
       "    </tr>\n",
       "  </thead>\n",
       "  <tbody>\n",
       "    <tr>\n",
       "      <th>0</th>\n",
       "      <td>ham</td>\n",
       "      <td>Go until jurong point, crazy.. Available only ...</td>\n",
       "    </tr>\n",
       "    <tr>\n",
       "      <th>1</th>\n",
       "      <td>ham</td>\n",
       "      <td>Ok lar... Joking wif u oni...</td>\n",
       "    </tr>\n",
       "    <tr>\n",
       "      <th>2</th>\n",
       "      <td>spam</td>\n",
       "      <td>Free entry in 2 a wkly comp to win FA Cup fina...</td>\n",
       "    </tr>\n",
       "    <tr>\n",
       "      <th>3</th>\n",
       "      <td>ham</td>\n",
       "      <td>U dun say so early hor... U c already then say...</td>\n",
       "    </tr>\n",
       "    <tr>\n",
       "      <th>4</th>\n",
       "      <td>ham</td>\n",
       "      <td>Nah I don't think he goes to usf, he lives aro...</td>\n",
       "    </tr>\n",
       "  </tbody>\n",
       "</table>\n",
       "</div>"
      ],
      "text/plain": [
       "  Category                                            Message\n",
       "0      ham  Go until jurong point, crazy.. Available only ...\n",
       "1      ham                      Ok lar... Joking wif u oni...\n",
       "2     spam  Free entry in 2 a wkly comp to win FA Cup fina...\n",
       "3      ham  U dun say so early hor... U c already then say...\n",
       "4      ham  Nah I don't think he goes to usf, he lives aro..."
      ]
     },
     "execution_count": 2,
     "metadata": {},
     "output_type": "execute_result"
    }
   ],
   "source": [
    "import pandas as pd\n",
    "df=pd.read_csv('spam.csv')\n",
    "df.head()\n"
   ]
  },
  {
   "cell_type": "code",
   "execution_count": 3,
   "metadata": {},
   "outputs": [
    {
     "data": {
      "text/html": [
       "<div>\n",
       "<style scoped>\n",
       "    .dataframe tbody tr th:only-of-type {\n",
       "        vertical-align: middle;\n",
       "    }\n",
       "\n",
       "    .dataframe tbody tr th {\n",
       "        vertical-align: top;\n",
       "    }\n",
       "\n",
       "    .dataframe thead tr th {\n",
       "        text-align: left;\n",
       "    }\n",
       "\n",
       "    .dataframe thead tr:last-of-type th {\n",
       "        text-align: right;\n",
       "    }\n",
       "</style>\n",
       "<table border=\"1\" class=\"dataframe\">\n",
       "  <thead>\n",
       "    <tr>\n",
       "      <th></th>\n",
       "      <th colspan=\"4\" halign=\"left\">Message</th>\n",
       "    </tr>\n",
       "    <tr>\n",
       "      <th></th>\n",
       "      <th>count</th>\n",
       "      <th>unique</th>\n",
       "      <th>top</th>\n",
       "      <th>freq</th>\n",
       "    </tr>\n",
       "    <tr>\n",
       "      <th>Category</th>\n",
       "      <th></th>\n",
       "      <th></th>\n",
       "      <th></th>\n",
       "      <th></th>\n",
       "    </tr>\n",
       "  </thead>\n",
       "  <tbody>\n",
       "    <tr>\n",
       "      <th>ham</th>\n",
       "      <td>4825</td>\n",
       "      <td>4516</td>\n",
       "      <td>Sorry, I'll call later</td>\n",
       "      <td>30</td>\n",
       "    </tr>\n",
       "    <tr>\n",
       "      <th>spam</th>\n",
       "      <td>747</td>\n",
       "      <td>641</td>\n",
       "      <td>Please call our customer service representativ...</td>\n",
       "      <td>4</td>\n",
       "    </tr>\n",
       "  </tbody>\n",
       "</table>\n",
       "</div>"
      ],
      "text/plain": [
       "         Message                                                            \\\n",
       "           count unique                                                top   \n",
       "Category                                                                     \n",
       "ham         4825   4516                             Sorry, I'll call later   \n",
       "spam         747    641  Please call our customer service representativ...   \n",
       "\n",
       "               \n",
       "         freq  \n",
       "Category       \n",
       "ham        30  \n",
       "spam        4  "
      ]
     },
     "execution_count": 3,
     "metadata": {},
     "output_type": "execute_result"
    }
   ],
   "source": [
    "df.groupby('Category').describe()"
   ]
  },
  {
   "cell_type": "code",
   "execution_count": 4,
   "metadata": {},
   "outputs": [
    {
     "data": {
      "text/plain": [
       "Category  Message                                                                                                                                                                     \n",
       "ham       Sorry, I'll call later                                                                                                                                                          30\n",
       "          I cant pick the phone right now. Pls send a message                                                                                                                             12\n",
       "          Ok...                                                                                                                                                                           10\n",
       "          7 wonders in My WORLD 7th You 6th Ur style 5th Ur smile 4th Ur Personality 3rd Ur Nature 2nd Ur SMS and 1st \"Ur Lovely Friendship\"... good morning dear                          4\n",
       "          Ok                                                                                                                                                                               4\n",
       "                                                                                                                                                                                          ..\n",
       "spam      todays vodafone numbers ending with 0089(my last four digits) are selected to received a £350 award. If your number matches please call 09063442151 to claim your £350 award     1\n",
       "          u r a winner U ave been specially selected 2 receive £1000 cash or a 4* holiday (flights inc) speak to a live operator 2 claim 0871277810710p/min (18 )                          1\n",
       "          u r subscribed 2 TEXTCOMP 250 wkly comp. 1st wk?s free question follows, subsequent wks charged@150p/msg.2 unsubscribe txt STOP 2 84128,custcare 08712405020                     1\n",
       "          wamma get laid?want real doggin locations sent direct to your mobile? join the UKs largest dogging network. txt dogs to 69696 now!nyt. ec2a. 3lp £1.50/msg.                      1\n",
       "          we tried to contact you re your response to our offer of a new nokia fone and camcorder hit reply or call 08000930705 for delivery                                               1\n",
       "Name: count, Length: 5157, dtype: int64"
      ]
     },
     "execution_count": 4,
     "metadata": {},
     "output_type": "execute_result"
    }
   ],
   "source": [
    "df.groupby('Category').value_counts()"
   ]
  },
  {
   "cell_type": "code",
   "execution_count": 5,
   "metadata": {},
   "outputs": [
    {
     "data": {
      "text/plain": [
       "Category\n",
       "ham     4825\n",
       "spam     747\n",
       "Name: count, dtype: int64"
      ]
     },
     "execution_count": 5,
     "metadata": {},
     "output_type": "execute_result"
    }
   ],
   "source": [
    "df['Category'].value_counts()"
   ]
  },
  {
   "cell_type": "code",
   "execution_count": 6,
   "metadata": {},
   "outputs": [
    {
     "data": {
      "text/plain": [
       "0.15481865284974095"
      ]
     },
     "execution_count": 6,
     "metadata": {},
     "output_type": "execute_result"
    }
   ],
   "source": [
    " 747/4825"
   ]
  },
  {
   "cell_type": "code",
   "execution_count": 7,
   "metadata": {},
   "outputs": [
    {
     "data": {
      "text/plain": [
       "(747, 2)"
      ]
     },
     "execution_count": 7,
     "metadata": {},
     "output_type": "execute_result"
    }
   ],
   "source": [
    "df_spam=df[df['Category']=='spam']\n",
    "df_spam.shape"
   ]
  },
  {
   "cell_type": "code",
   "execution_count": 8,
   "metadata": {},
   "outputs": [
    {
     "data": {
      "text/plain": [
       "(4825, 2)"
      ]
     },
     "execution_count": 8,
     "metadata": {},
     "output_type": "execute_result"
    }
   ],
   "source": [
    "df_ham=df[df['Category']=='ham']\n",
    "df_ham.shape"
   ]
  },
  {
   "cell_type": "code",
   "execution_count": 9,
   "metadata": {},
   "outputs": [
    {
     "data": {
      "text/plain": [
       "(747, 2)"
      ]
     },
     "execution_count": 9,
     "metadata": {},
     "output_type": "execute_result"
    }
   ],
   "source": [
    "df_ham_downsampled=df_ham.sample(df_spam.shape[0])\n",
    "df_ham_downsampled.shape"
   ]
  },
  {
   "cell_type": "code",
   "execution_count": 10,
   "metadata": {},
   "outputs": [],
   "source": [
    "df_balanced=pd.concat([df_spam,df_ham_downsampled])"
   ]
  },
  {
   "cell_type": "code",
   "execution_count": 11,
   "metadata": {},
   "outputs": [
    {
     "data": {
      "text/plain": [
       "(1494, 2)"
      ]
     },
     "execution_count": 11,
     "metadata": {},
     "output_type": "execute_result"
    }
   ],
   "source": [
    "df_balanced.shape"
   ]
  },
  {
   "cell_type": "code",
   "execution_count": 12,
   "metadata": {},
   "outputs": [
    {
     "data": {
      "text/plain": [
       "Category\n",
       "spam    747\n",
       "ham     747\n",
       "Name: count, dtype: int64"
      ]
     },
     "execution_count": 12,
     "metadata": {},
     "output_type": "execute_result"
    }
   ],
   "source": [
    "df_balanced['Category'].value_counts()"
   ]
  },
  {
   "cell_type": "code",
   "execution_count": 13,
   "metadata": {},
   "outputs": [
    {
     "data": {
      "text/html": [
       "<div>\n",
       "<style scoped>\n",
       "    .dataframe tbody tr th:only-of-type {\n",
       "        vertical-align: middle;\n",
       "    }\n",
       "\n",
       "    .dataframe tbody tr th {\n",
       "        vertical-align: top;\n",
       "    }\n",
       "\n",
       "    .dataframe thead th {\n",
       "        text-align: right;\n",
       "    }\n",
       "</style>\n",
       "<table border=\"1\" class=\"dataframe\">\n",
       "  <thead>\n",
       "    <tr style=\"text-align: right;\">\n",
       "      <th></th>\n",
       "      <th>Category</th>\n",
       "      <th>Message</th>\n",
       "    </tr>\n",
       "  </thead>\n",
       "  <tbody>\n",
       "    <tr>\n",
       "      <th>1094</th>\n",
       "      <td>ham</td>\n",
       "      <td>Well the weather in cali's great. But its comp...</td>\n",
       "    </tr>\n",
       "    <tr>\n",
       "      <th>1241</th>\n",
       "      <td>ham</td>\n",
       "      <td>Oh yes I can speak txt 2 u no! Hmm. Did u get ...</td>\n",
       "    </tr>\n",
       "    <tr>\n",
       "      <th>2583</th>\n",
       "      <td>spam</td>\n",
       "      <td>3 FREE TAROT TEXTS! Find out about your love l...</td>\n",
       "    </tr>\n",
       "    <tr>\n",
       "      <th>2975</th>\n",
       "      <td>ham</td>\n",
       "      <td>I'll text carlos and let you know, hang on</td>\n",
       "    </tr>\n",
       "    <tr>\n",
       "      <th>2328</th>\n",
       "      <td>spam</td>\n",
       "      <td>URGENT! Your mobile number *************** WON...</td>\n",
       "    </tr>\n",
       "  </tbody>\n",
       "</table>\n",
       "</div>"
      ],
      "text/plain": [
       "     Category                                            Message\n",
       "1094      ham  Well the weather in cali's great. But its comp...\n",
       "1241      ham  Oh yes I can speak txt 2 u no! Hmm. Did u get ...\n",
       "2583     spam  3 FREE TAROT TEXTS! Find out about your love l...\n",
       "2975      ham         I'll text carlos and let you know, hang on\n",
       "2328     spam  URGENT! Your mobile number *************** WON..."
      ]
     },
     "execution_count": 13,
     "metadata": {},
     "output_type": "execute_result"
    }
   ],
   "source": [
    "df_balanced.sample(5)"
   ]
  },
  {
   "cell_type": "code",
   "execution_count": 14,
   "metadata": {},
   "outputs": [],
   "source": [
    "df_balanced['spam']=df_balanced['Category'].apply(lambda x: 1 if x=='spam' else 0)"
   ]
  },
  {
   "cell_type": "code",
   "execution_count": 15,
   "metadata": {},
   "outputs": [
    {
     "data": {
      "text/html": [
       "<div>\n",
       "<style scoped>\n",
       "    .dataframe tbody tr th:only-of-type {\n",
       "        vertical-align: middle;\n",
       "    }\n",
       "\n",
       "    .dataframe tbody tr th {\n",
       "        vertical-align: top;\n",
       "    }\n",
       "\n",
       "    .dataframe thead th {\n",
       "        text-align: right;\n",
       "    }\n",
       "</style>\n",
       "<table border=\"1\" class=\"dataframe\">\n",
       "  <thead>\n",
       "    <tr style=\"text-align: right;\">\n",
       "      <th></th>\n",
       "      <th>Category</th>\n",
       "      <th>Message</th>\n",
       "      <th>spam</th>\n",
       "    </tr>\n",
       "  </thead>\n",
       "  <tbody>\n",
       "    <tr>\n",
       "      <th>3064</th>\n",
       "      <td>spam</td>\n",
       "      <td>Hi babe its Jordan, how r u? Im home from abro...</td>\n",
       "      <td>1</td>\n",
       "    </tr>\n",
       "    <tr>\n",
       "      <th>1312</th>\n",
       "      <td>ham</td>\n",
       "      <td>U r too much close to my heart. If u go away i...</td>\n",
       "      <td>0</td>\n",
       "    </tr>\n",
       "    <tr>\n",
       "      <th>3222</th>\n",
       "      <td>spam</td>\n",
       "      <td>Thanks for your ringtone order, reference numb...</td>\n",
       "      <td>1</td>\n",
       "    </tr>\n",
       "    <tr>\n",
       "      <th>2881</th>\n",
       "      <td>spam</td>\n",
       "      <td>Last Chance! Claim ur £150 worth of discount v...</td>\n",
       "      <td>1</td>\n",
       "    </tr>\n",
       "    <tr>\n",
       "      <th>2989</th>\n",
       "      <td>ham</td>\n",
       "      <td>Do you still have the grinder?</td>\n",
       "      <td>0</td>\n",
       "    </tr>\n",
       "  </tbody>\n",
       "</table>\n",
       "</div>"
      ],
      "text/plain": [
       "     Category                                            Message  spam\n",
       "3064     spam  Hi babe its Jordan, how r u? Im home from abro...     1\n",
       "1312      ham  U r too much close to my heart. If u go away i...     0\n",
       "3222     spam  Thanks for your ringtone order, reference numb...     1\n",
       "2881     spam  Last Chance! Claim ur £150 worth of discount v...     1\n",
       "2989      ham                     Do you still have the grinder?     0"
      ]
     },
     "execution_count": 15,
     "metadata": {},
     "output_type": "execute_result"
    }
   ],
   "source": [
    "df_balanced.sample(5)"
   ]
  },
  {
   "cell_type": "code",
   "execution_count": 16,
   "metadata": {},
   "outputs": [],
   "source": [
    "from sklearn.model_selection import train_test_split\n",
    "X_train,X_test,y_train,y_test=train_test_split(df_balanced['Message'],df_balanced['spam'],stratify=df_balanced['spam'])"
   ]
  },
  {
   "cell_type": "code",
   "execution_count": 17,
   "metadata": {},
   "outputs": [
    {
     "data": {
      "text/plain": [
       "367     Update_Now - Xmas Offer! Latest Motorola, Sony...\n",
       "1916    Its not that time of the month nor mid of the ...\n",
       "4499    Latest Nokia Mobile or iPOD MP3 Player +£400 p...\n",
       "70         Wah lucky man... Then can save money... Hee...\n",
       "Name: Message, dtype: object"
      ]
     },
     "execution_count": 17,
     "metadata": {},
     "output_type": "execute_result"
    }
   ],
   "source": [
    "X_train.head(4)"
   ]
  },
  {
   "cell_type": "code",
   "execution_count": 18,
   "metadata": {},
   "outputs": [
    {
     "name": "stderr",
     "output_type": "stream",
     "text": [
      "2025-03-13 08:02:36.430628: E external/local_xla/xla/stream_executor/cuda/cuda_driver.cc:152] failed call to cuInit: INTERNAL: CUDA error: Failed call to cuInit: UNKNOWN ERROR (303)\n",
      "2025-03-13 08:02:52.792889: W external/local_xla/xla/tsl/framework/cpu_allocator_impl.cc:83] Allocation of 93763584 exceeds 10% of free system memory.\n"
     ]
    }
   ],
   "source": [
    "bert_preprocess=hub.KerasLayer(\"https://tfhub.dev/tensorflow/bert_en_uncased_preprocess/3\")\n",
    "bert_encoder=hub.KerasLayer(\"https://tfhub.dev/tensorflow/bert_en_uncased_L-12_H-768_A-12/4\")"
   ]
  },
  {
   "cell_type": "code",
   "execution_count": 19,
   "metadata": {},
   "outputs": [],
   "source": [
    "def get_sentence_embeding(sentences):\n",
    "    preprocessed_text=bert_preprocess(sentences)\n",
    "    return bert_encoder(preprocessed_text)['pooled_output']"
   ]
  },
  {
   "cell_type": "code",
   "execution_count": 20,
   "metadata": {},
   "outputs": [
    {
     "data": {
      "text/plain": [
       "<tf.Tensor: shape=(1, 768), dtype=float32, numpy=\n",
       "array([[-6.57662392e-01, -2.81492740e-01, -6.64784193e-01,\n",
       "         5.82889438e-01,  3.52658033e-01,  3.01090330e-02,\n",
       "         6.81208074e-01,  1.75162628e-01, -3.67962718e-01,\n",
       "        -9.99834955e-01, -6.40497878e-02,  6.47660851e-01,\n",
       "         9.50325191e-01,  3.24384868e-01,  7.35545576e-01,\n",
       "        -4.17239606e-01,  9.94451195e-02, -4.39465374e-01,\n",
       "         3.39418739e-01,  1.79578364e-02,  4.20951754e-01,\n",
       "         9.98797774e-01,  3.34184945e-01,  9.56264883e-02,\n",
       "         3.14250648e-01,  8.54856193e-01, -4.87252474e-01,\n",
       "         7.92728126e-01,  8.96579623e-01,  5.84938109e-01,\n",
       "        -3.84550989e-01,  1.43849343e-01, -9.66158390e-01,\n",
       "        -1.40088931e-01, -7.45082200e-01, -9.64695990e-01,\n",
       "         2.26245403e-01, -4.40775692e-01,  1.20793074e-01,\n",
       "         1.34351239e-01, -6.34572983e-01,  2.11020827e-01,\n",
       "         9.99314487e-01,  2.26245612e-01,  8.93676132e-02,\n",
       "        -1.43336520e-01, -9.99903798e-01,  1.79020286e-01,\n",
       "        -6.84662938e-01,  3.74826312e-01,  4.89185631e-01,\n",
       "         3.00192535e-01,  2.96421461e-02,  2.80387223e-01,\n",
       "         3.04826409e-01,  1.61274076e-01, -2.04076469e-01,\n",
       "         9.26837400e-02, -1.56557545e-01, -2.98570603e-01,\n",
       "        -4.38239783e-01,  3.65756661e-01, -6.88294768e-01,\n",
       "        -7.23867655e-01,  6.53253555e-01,  3.99280608e-01,\n",
       "        -1.34347752e-01, -1.88134372e-01,  6.49898052e-02,\n",
       "        -2.96564162e-01,  5.44261515e-01,  6.86740205e-02,\n",
       "         2.44530231e-01, -6.68725908e-01,  2.05527693e-01,\n",
       "         1.16530903e-01, -5.41570008e-01,  1.00000000e+00,\n",
       "        -2.48334646e-01, -9.19403851e-01,  3.75948757e-01,\n",
       "         4.07201111e-01,  5.18680990e-01,  1.05107404e-01,\n",
       "         1.58983499e-01, -9.99997854e-01,  2.43244931e-01,\n",
       "        -3.43344286e-02, -9.65720773e-01,  1.41224116e-01,\n",
       "         4.15578187e-01, -6.72406033e-02,  3.31057817e-01,\n",
       "         3.93714368e-01, -4.14079070e-01, -2.44844019e-01,\n",
       "        -2.34962642e-01, -5.01267135e-01, -2.28833571e-01,\n",
       "        -1.70861125e-01,  2.49204990e-02, -1.89903408e-01,\n",
       "        -6.70202076e-02, -2.35138655e-01,  1.46252945e-01,\n",
       "        -2.89087206e-01, -1.27860516e-01,  2.06214160e-01,\n",
       "        -1.13620862e-01,  5.29277384e-01,  3.76076609e-01,\n",
       "        -1.42479494e-01,  2.76518822e-01, -8.80314350e-01,\n",
       "         5.65596044e-01, -1.48208827e-01, -9.48457897e-01,\n",
       "        -4.98735666e-01, -9.60694551e-01,  4.36209321e-01,\n",
       "        -9.28141847e-02, -1.42559260e-01,  8.04603755e-01,\n",
       "         2.33842768e-02,  1.23036638e-01,  4.11853604e-02,\n",
       "        -3.71972412e-01, -1.00000000e+00, -5.18010914e-01,\n",
       "        -4.52939689e-01,  1.46413758e-01, -1.00220487e-01,\n",
       "        -9.47898686e-01, -8.79318476e-01,  3.75257879e-01,\n",
       "         8.63008797e-01,  9.21850130e-02,  9.97954011e-01,\n",
       "        -1.89230442e-01,  8.50761056e-01, -7.71963149e-02,\n",
       "        -4.82109338e-01,  3.14999461e-01, -3.12231183e-01,\n",
       "         5.06304920e-01, -6.96577579e-02, -4.42262053e-01,\n",
       "         6.96670935e-02, -1.54373556e-01, -1.37816910e-02,\n",
       "        -4.17079240e-01, -1.53003111e-01, -3.36260855e-01,\n",
       "        -8.37224245e-01, -1.93302825e-01,  8.54398072e-01,\n",
       "        -2.80771077e-01, -6.09632492e-01,  1.68319076e-01,\n",
       "        -1.57745063e-01, -3.11032563e-01,  6.72624350e-01,\n",
       "         2.29109406e-01,  2.90536344e-01, -3.19640368e-01,\n",
       "         2.80618906e-01,  7.14709684e-02,  3.67620796e-01,\n",
       "        -5.79411089e-01,  1.62215620e-01,  2.08981603e-01,\n",
       "        -2.22281948e-01, -6.62988007e-01, -9.26619589e-01,\n",
       "        -2.37126917e-01,  2.10021928e-01,  9.55610693e-01,\n",
       "         5.29514968e-01,  2.54766673e-01,  1.37627870e-01,\n",
       "        -1.75284088e-01,  3.63120615e-01, -9.08089161e-01,\n",
       "         9.46232498e-01, -1.10102355e-01,  1.43807411e-01,\n",
       "        -3.90997350e-01,  1.42857179e-01, -6.45637751e-01,\n",
       "        -2.23896261e-02,  6.59601688e-01, -4.39358532e-01,\n",
       "        -5.46323180e-01,  2.75670402e-02, -3.19278479e-01,\n",
       "        -2.33656660e-01, -4.53740329e-01,  2.46510923e-01,\n",
       "        -2.22209916e-01, -3.86979312e-01,  9.82431918e-02,\n",
       "         7.89454758e-01,  8.26123357e-01,  4.64669615e-01,\n",
       "        -6.47893921e-02,  4.84698921e-01, -6.57907248e-01,\n",
       "        -2.02598199e-01,  2.83867270e-02,  4.74629849e-02,\n",
       "         1.04503833e-01,  9.62328494e-01, -4.34964657e-01,\n",
       "         9.79515444e-03, -7.89366245e-01, -9.39701796e-01,\n",
       "        -1.25582367e-01, -7.38046646e-01,  3.65124904e-02,\n",
       "        -6.10435247e-01,  3.57511550e-01,  1.27730027e-01,\n",
       "         1.03336729e-01,  1.88386291e-01, -7.67968714e-01,\n",
       "        -5.23520410e-01,  2.89333731e-01, -1.40507221e-01,\n",
       "         3.58384311e-01, -1.17960803e-01,  7.31743395e-01,\n",
       "         7.72556961e-01, -4.17328030e-01,  7.57354721e-02,\n",
       "         8.57245624e-01, -5.39568484e-01, -5.82396865e-01,\n",
       "         3.93859446e-01, -1.06932357e-01,  7.12052584e-01,\n",
       "        -5.00041544e-01,  9.57566857e-01,  6.85375094e-01,\n",
       "         3.20250541e-01, -7.76838183e-01, -5.12704492e-01,\n",
       "        -5.63993752e-01, -4.44707483e-01,  8.15132037e-02,\n",
       "        -2.05281094e-01,  5.78340828e-01,  4.34434772e-01,\n",
       "         1.84964776e-01,  5.05735695e-01, -5.23100674e-01,\n",
       "         8.90954852e-01, -7.21661568e-01, -9.06922460e-01,\n",
       "        -4.86420542e-01,  1.03015557e-01, -9.68643129e-01,\n",
       "         5.54398060e-01,  2.44869724e-01,  4.25304137e-02,\n",
       "        -2.76681036e-01, -4.83647197e-01, -8.66156518e-01,\n",
       "         6.11594439e-01,  1.51855163e-02,  9.19283986e-01,\n",
       "        -1.90924153e-01, -7.56877720e-01, -3.54012936e-01,\n",
       "        -8.19528639e-01, -3.52317274e-01, -8.20993707e-02,\n",
       "         5.69629595e-02, -1.25556961e-01, -8.36980343e-01,\n",
       "         3.98221493e-01,  2.22838953e-01,  1.93409160e-01,\n",
       "        -5.63179672e-01,  9.60618675e-01,  9.99981701e-01,\n",
       "         9.04829144e-01,  7.07720816e-01,  5.40607929e-01,\n",
       "        -9.93682921e-01, -5.56541622e-01,  9.99927878e-01,\n",
       "        -8.80495608e-01, -9.99997616e-01, -7.91760385e-01,\n",
       "        -5.46299756e-01,  9.76345688e-02, -1.00000000e+00,\n",
       "        -1.59570295e-02,  1.21794663e-01, -7.10094154e-01,\n",
       "         3.11537594e-01,  9.11247611e-01,  8.44988823e-01,\n",
       "        -1.00000000e+00,  6.81530535e-01,  7.72169530e-01,\n",
       "        -4.59422350e-01,  6.46605909e-01, -3.11850101e-01,\n",
       "         9.10645485e-01,  4.26146597e-01,  2.39790052e-01,\n",
       "        -1.54623330e-01,  2.87155509e-01, -8.07476580e-01,\n",
       "        -7.11382091e-01, -2.93169260e-01, -2.83430099e-01,\n",
       "         9.76375580e-01, -1.31194480e-04, -6.74394906e-01,\n",
       "        -7.38157630e-01,  2.02314660e-01,  4.57397886e-02,\n",
       "        -3.61738279e-02, -8.53873253e-01, -1.92068830e-01,\n",
       "         2.96719164e-01,  6.04535162e-01, -6.45517334e-02,\n",
       "         2.26228982e-01, -3.53532046e-01,  1.79042086e-01,\n",
       "        -2.85198569e-01, -3.55183296e-02,  5.62746048e-01,\n",
       "        -8.77543688e-01, -2.37652451e-01, -1.05843678e-01,\n",
       "        -2.16003656e-01, -2.86439300e-01, -8.73623013e-01,\n",
       "         8.88645053e-01, -3.04889292e-01,  6.20662689e-01,\n",
       "         1.00000000e+00,  3.04611683e-01, -5.91941714e-01,\n",
       "         4.72805172e-01,  6.62173703e-02, -5.31530738e-01,\n",
       "         9.99999225e-01,  4.71911281e-01, -9.32256103e-01,\n",
       "        -4.70558345e-01,  5.98022044e-01, -3.85790229e-01,\n",
       "        -4.33764428e-01,  9.96062756e-01, -1.07849091e-01,\n",
       "        -2.16448009e-01,  2.87275035e-02,  9.57462549e-01,\n",
       "        -9.71513569e-01,  9.30495322e-01, -6.39926374e-01,\n",
       "        -8.86540294e-01,  8.54883611e-01,  8.05886984e-01,\n",
       "        -2.89224476e-01, -5.55048406e-01,  1.26908431e-02,\n",
       "        -3.32155496e-01,  1.61762759e-01, -7.38698661e-01,\n",
       "         5.33851743e-01,  1.21156305e-01,  1.45215243e-01,\n",
       "         7.49558091e-01, -5.46285391e-01, -4.09382463e-01,\n",
       "         1.26739129e-01, -3.30239534e-01, -3.08364374e-03,\n",
       "         7.35291064e-01,  4.74787116e-01, -2.54781723e-01,\n",
       "        -1.09269276e-01, -2.16352656e-01, -4.69629079e-01,\n",
       "        -8.73966098e-01,  2.17850924e-01,  1.00000000e+00,\n",
       "        -1.46225408e-01,  3.02203268e-01, -2.70649046e-01,\n",
       "         1.13859564e-01, -2.49680057e-01,  2.72112072e-01,\n",
       "         3.32044721e-01, -1.98324829e-01, -6.66789889e-01,\n",
       "         4.44829851e-01, -7.02045083e-01, -9.70183015e-01,\n",
       "         5.26306391e-01,  1.02992378e-01, -3.55043486e-02,\n",
       "         9.99049842e-01,  3.59009922e-01,  1.49015278e-01,\n",
       "         4.19867225e-02,  7.55901575e-01, -3.14350915e-03,\n",
       "         1.08260497e-01,  4.32946682e-01,  9.25250351e-01,\n",
       "        -1.35224864e-01,  4.68382746e-01,  3.28180254e-01,\n",
       "        -5.30917943e-01, -1.61142454e-01, -5.68224013e-01,\n",
       "        -8.65080059e-02, -8.52027059e-01,  1.50136292e-01,\n",
       "        -8.51908803e-01,  9.00412977e-01,  6.30160570e-01,\n",
       "         2.20308781e-01,  3.66288684e-02,  4.78501797e-01,\n",
       "         1.00000000e+00, -5.54023147e-01,  3.40500265e-01,\n",
       "         3.14664096e-01,  3.76847118e-01, -9.89345014e-01,\n",
       "        -3.14588606e-01, -1.86611027e-01,  4.94366512e-02,\n",
       "        -4.67508048e-01, -2.05369517e-01,  1.18460350e-01,\n",
       "        -9.08118308e-01,  4.06089276e-01,  4.27683324e-01,\n",
       "        -7.86912799e-01, -9.63881075e-01, -1.54803321e-01,\n",
       "         3.18650097e-01,  1.26352943e-02, -8.72707307e-01,\n",
       "        -4.00553852e-01, -4.22995597e-01,  4.00207132e-01,\n",
       "        -1.57267645e-01, -7.88462102e-01,  2.53513634e-01,\n",
       "        -1.98426306e-01,  3.55434924e-01, -4.95792255e-02,\n",
       "         4.87250954e-01,  4.36532140e-01,  7.53111660e-01,\n",
       "        -2.27008820e-01, -1.68371815e-02, -1.19364671e-01,\n",
       "        -6.81945682e-01,  7.07555652e-01, -6.82978094e-01,\n",
       "        -6.68684542e-01,  3.08990534e-02,  1.00000000e+00,\n",
       "        -3.85981232e-01,  5.49093723e-01,  5.03675044e-01,\n",
       "         2.55544573e-01, -9.90399793e-02,  4.21301574e-02,\n",
       "         7.30888724e-01,  2.70886511e-01, -3.55047166e-01,\n",
       "        -3.39704990e-01,  1.31853968e-01, -2.48807743e-01,\n",
       "         4.87145931e-01,  6.53832704e-02,  3.36952418e-01,\n",
       "         4.84625340e-01,  4.61036116e-01,  8.73932336e-03,\n",
       "         1.68615580e-01, -1.53582215e-01,  9.69290853e-01,\n",
       "        -1.05459869e-01, -5.57843409e-02, -2.99392194e-01,\n",
       "        -2.55346280e-02, -1.30682617e-01,  9.99209937e-03,\n",
       "         9.99999344e-01,  2.51852781e-01,  2.30226263e-01,\n",
       "        -9.70387757e-01, -5.73934853e-01, -7.48900831e-01,\n",
       "         9.99952734e-01,  5.75938523e-01, -4.97269541e-01,\n",
       "         2.64805913e-01,  3.99143159e-01, -1.08306520e-01,\n",
       "         3.98746580e-01, -1.15350530e-01, -1.38780802e-01,\n",
       "         8.78515691e-02,  3.62753756e-02,  8.43240857e-01,\n",
       "        -3.75395060e-01, -9.22180593e-01, -3.80918354e-01,\n",
       "         2.30121627e-01, -8.39026272e-01,  9.97113943e-01,\n",
       "        -3.39577347e-01, -1.70566544e-01, -2.89339274e-01,\n",
       "        -6.92846999e-02, -3.44639152e-01, -1.78446561e-01,\n",
       "        -9.07358170e-01, -4.65895375e-03,  1.28942743e-01,\n",
       "         8.80452573e-01,  9.14619491e-02, -4.89780903e-01,\n",
       "        -7.28096724e-01,  4.29917365e-01,  3.08788180e-01,\n",
       "        -5.20229697e-01, -8.43476117e-01,  8.73713851e-01,\n",
       "        -9.09300506e-01,  2.65746891e-01,  9.99991536e-01,\n",
       "         2.14754522e-01, -1.27601579e-01,  7.80215487e-02,\n",
       "        -1.12047099e-01,  1.11491799e-01, -1.66628927e-01,\n",
       "         4.20769513e-01, -8.32251549e-01, -8.68448764e-02,\n",
       "        -9.91992652e-02,  2.68126816e-01, -6.25944957e-02,\n",
       "        -2.89685130e-01,  5.20627201e-01, -9.60531703e-04,\n",
       "        -3.94394964e-01, -4.79225338e-01,  5.47589324e-02,\n",
       "         2.23194197e-01,  6.71298563e-01, -2.36153394e-01,\n",
       "        -4.32086438e-02, -1.90106053e-02,  1.15445010e-01,\n",
       "        -7.54729867e-01, -2.32058883e-01, -9.40428525e-02,\n",
       "        -9.99331951e-01,  3.08821976e-01, -1.00000000e+00,\n",
       "         2.59002566e-01, -1.32739231e-01,  4.12842296e-02,\n",
       "         5.64195752e-01,  2.61080533e-01,  2.19170213e-01,\n",
       "        -4.41650301e-01, -4.42143083e-01,  6.52615845e-01,\n",
       "         6.39817059e-01, -7.99314678e-02, -7.42962658e-02,\n",
       "        -4.47716832e-01,  4.79797013e-02,  4.79124002e-02,\n",
       "         1.67203605e-01, -2.32334629e-01,  5.83674252e-01,\n",
       "        -2.39872281e-02,  1.00000000e+00, -1.90966856e-02,\n",
       "        -2.81626493e-01, -8.00434053e-01,  9.02929977e-02,\n",
       "        -1.32563874e-01,  9.99991298e-01, -4.79183078e-01,\n",
       "        -8.66424561e-01,  2.00409278e-01, -4.37776864e-01,\n",
       "        -5.85769057e-01,  1.92787260e-01, -6.48191571e-02,\n",
       "        -5.55481374e-01, -6.91234231e-01,  8.05101573e-01,\n",
       "         5.32710791e-01, -5.07356584e-01,  4.27971274e-01,\n",
       "        -1.56705365e-01, -2.84608096e-01,  3.75935831e-03,\n",
       "         4.68697280e-01,  9.45725203e-01,  3.23964030e-01,\n",
       "         5.97865283e-01, -1.61863595e-01, -1.66162610e-01,\n",
       "         8.53155255e-01,  1.81852788e-01,  1.70578688e-01,\n",
       "         8.80481303e-02,  9.99998212e-01,  2.03853801e-01,\n",
       "        -8.54197681e-01,  2.51740664e-01, -9.03904319e-01,\n",
       "        -1.51589597e-02, -8.01631987e-01,  1.49282098e-01,\n",
       "         2.11324114e-02,  7.51742601e-01, -1.31203160e-01,\n",
       "         8.32419097e-01, -4.65008497e-01, -1.13601483e-01,\n",
       "        -1.21979527e-01, -1.62031949e-01,  2.42513284e-01,\n",
       "        -7.70939529e-01, -9.50347722e-01, -9.50028300e-01,\n",
       "         3.32833588e-01, -3.28319788e-01,  5.16988337e-02,\n",
       "         1.99023649e-01,  3.68903093e-02,  2.93088764e-01,\n",
       "         2.51548946e-01, -9.99998927e-01,  8.37898433e-01,\n",
       "         2.69712448e-01,  6.23423874e-01,  8.89176726e-01,\n",
       "         5.19494951e-01,  3.22191298e-01,  2.30554134e-01,\n",
       "        -9.38653052e-01, -7.05732286e-01, -2.24349439e-01,\n",
       "        -1.15382873e-01,  6.33856475e-01,  6.10690773e-01,\n",
       "         7.04841971e-01,  3.87166679e-01, -2.80941963e-01,\n",
       "        -3.60004693e-01, -1.73234686e-01, -6.40818775e-01,\n",
       "        -9.68635142e-01,  3.44108492e-01, -1.17825225e-01,\n",
       "        -6.82824731e-01,  9.01648045e-01, -1.24553725e-01,\n",
       "         2.37271208e-02,  6.95456797e-03, -3.53534281e-01,\n",
       "         4.94185656e-01,  5.51834881e-01,  1.76942110e-01,\n",
       "         9.94407106e-03,  3.68128270e-01,  6.43837035e-01,\n",
       "         7.97914028e-01,  9.64432597e-01, -6.46086454e-01,\n",
       "         5.81703186e-01, -8.30993876e-02,  3.87247473e-01,\n",
       "         6.72887325e-01, -8.58159423e-01,  1.36225492e-01,\n",
       "         7.09114503e-03, -2.60908872e-01,  3.06502301e-02,\n",
       "        -2.40521580e-01, -6.71926677e-01,  6.26892865e-01,\n",
       "        -1.10600546e-01,  3.69784355e-01, -2.94619560e-01,\n",
       "         2.24294052e-01, -2.29425207e-01, -4.06737030e-02,\n",
       "        -4.97240007e-01, -4.36484903e-01,  5.30446172e-01,\n",
       "        -6.53664768e-02,  7.56819248e-01,  6.86801910e-01,\n",
       "         8.09697155e-03, -5.35035014e-01, -8.37918967e-02,\n",
       "        -3.08993250e-01, -7.59690046e-01,  5.15232921e-01,\n",
       "         4.67355996e-02, -4.39011045e-02,  3.00655723e-01,\n",
       "        -7.86320120e-02,  8.42292964e-01,  7.06221014e-02,\n",
       "        -2.25808829e-01, -2.00277433e-01, -4.38308328e-01,\n",
       "         6.03013217e-01, -3.92418563e-01, -4.45056647e-01,\n",
       "        -4.39189196e-01,  5.34034669e-01,  2.65181392e-01,\n",
       "         9.99122739e-01, -4.95199203e-01, -5.65381944e-01,\n",
       "        -6.83319643e-02, -1.52532399e-01,  2.56441385e-01,\n",
       "        -4.03726786e-01, -9.99998748e-01,  1.73469469e-01,\n",
       "         3.12585272e-02,  4.51998085e-01, -3.48626584e-01,\n",
       "         3.45624417e-01, -2.37525567e-01, -8.41543257e-01,\n",
       "        -2.26308107e-01,  4.02568132e-02,  1.98458672e-01,\n",
       "        -3.79368097e-01, -5.84180117e-01,  4.41197693e-01,\n",
       "        -6.37184605e-02,  7.95767188e-01,  7.36093998e-01,\n",
       "         9.14949402e-02,  3.46828878e-01,  5.47077596e-01,\n",
       "        -2.77682394e-01, -5.28192401e-01,  6.85427427e-01]], dtype=float32)>"
      ]
     },
     "execution_count": 20,
     "metadata": {},
     "output_type": "execute_result"
    }
   ],
   "source": [
    "get_sentence_embeding([\n",
    "    \"Sunshine Hols. To claim ur med holiday\",\n",
    "    \n",
    "                       ])"
   ]
  },
  {
   "cell_type": "code",
   "execution_count": 21,
   "metadata": {},
   "outputs": [],
   "source": [
    "e=get_sentence_embeding([\n",
    "    \"banana\",\n",
    "    \"grapes\",\n",
    "    \"mango\",\n",
    "    \"jeff bezos\",\n",
    "    \"elon musk\",\n",
    "    \"bill gates\"\n",
    "])"
   ]
  },
  {
   "cell_type": "code",
   "execution_count": 22,
   "metadata": {},
   "outputs": [
    {
     "data": {
      "text/plain": [
       "array([[0.9911088]], dtype=float32)"
      ]
     },
     "execution_count": 22,
     "metadata": {},
     "output_type": "execute_result"
    }
   ],
   "source": [
    "from sklearn.metrics.pairwise import cosine_similarity\n",
    "cosine_similarity([e[0]],[e[1]])"
   ]
  },
  {
   "cell_type": "code",
   "execution_count": 23,
   "metadata": {},
   "outputs": [
    {
     "data": {
      "text/plain": [
       "array([[0.893363]], dtype=float32)"
      ]
     },
     "execution_count": 23,
     "metadata": {},
     "output_type": "execute_result"
    }
   ],
   "source": [
    "cosine_similarity([e[0]],[e[4]])"
   ]
  },
  {
   "cell_type": "code",
   "execution_count": 24,
   "metadata": {},
   "outputs": [
    {
     "data": {
      "text/plain": [
       "array([[0.9999998]], dtype=float32)"
      ]
     },
     "execution_count": 24,
     "metadata": {},
     "output_type": "execute_result"
    }
   ],
   "source": [
    "cosine_similarity([e[4]],[e[4]])"
   ]
  },
  {
   "cell_type": "code",
   "execution_count": 25,
   "metadata": {},
   "outputs": [
    {
     "name": "stderr",
     "output_type": "stream",
     "text": [
      "2025-03-13 08:03:02.227041: W external/local_xla/xla/tsl/framework/cpu_allocator_impl.cc:83] Allocation of 93763584 exceeds 10% of free system memory.\n",
      "2025-03-13 08:03:02.413462: W external/local_xla/xla/tsl/framework/cpu_allocator_impl.cc:83] Allocation of 93763584 exceeds 10% of free system memory.\n",
      "2025-03-13 08:03:02.444293: W external/local_xla/xla/tsl/framework/cpu_allocator_impl.cc:83] Allocation of 93763584 exceeds 10% of free system memory.\n",
      "2025-03-13 08:03:06.659101: W external/local_xla/xla/tsl/framework/cpu_allocator_impl.cc:83] Allocation of 93763584 exceeds 10% of free system memory.\n"
     ]
    }
   ],
   "source": [
    "# Bert layers\n",
    "# text_input=tf.keras.layers.Input(shape=(),dtype=tf.string,name=\"text\")\n",
    "text_input = tf.keras.layers.Input(shape=(), dtype=tf.string, name='text')\n",
    "preprocessor = keras_nlp.models.BertPreprocessor.from_preset(\"bert_base_en_uncased\",trainable=True)\n",
    "encoder_inputs = preprocessor(text_input)\n",
    "encoder = keras_nlp.models.BertBackbone.from_preset(\"bert_base_en_uncased\")\n",
    "outputs = encoder(encoder_inputs)\n",
    "pooled_output = outputs[\"pooled_output\"]\n",
    "sequence_output = outputs[\"sequence_output\"]  # [batch_size, seq_length, 768].\n",
    "#Neural network layers\n",
    "l=tf.keras.layers.Dropout(0.1,name='dropout')(outputs['pooled_output'])\n",
    "l=tf.keras.layers.Dense(1,activation='sigmoid',name='output')(l)\n",
    "\n",
    "# #construct final model\n",
    "model=tf.keras.Model(inputs=[text_input],outputs=[l])\n",
    "\n",
    "\n",
    "\n"
   ]
  },
  {
   "cell_type": "code",
   "execution_count": 26,
   "metadata": {},
   "outputs": [
    {
     "data": {
      "text/html": [
       "<pre style=\"white-space:pre;overflow-x:auto;line-height:normal;font-family:Menlo,'DejaVu Sans Mono',consolas,'Courier New',monospace\"><span style=\"font-weight: bold\">Model: \"functional\"</span>\n",
       "</pre>\n"
      ],
      "text/plain": [
       "\u001b[1mModel: \"functional\"\u001b[0m\n"
      ]
     },
     "metadata": {},
     "output_type": "display_data"
    },
    {
     "data": {
      "text/html": [
       "<pre style=\"white-space:pre;overflow-x:auto;line-height:normal;font-family:Menlo,'DejaVu Sans Mono',consolas,'Courier New',monospace\">┏━━━━━━━━━━━━━━━━━━━━━┳━━━━━━━━━━━━━━━━━━━┳━━━━━━━━━━━━┳━━━━━━━━━━━━━━━━━━━┓\n",
       "┃<span style=\"font-weight: bold\"> Layer (type)        </span>┃<span style=\"font-weight: bold\"> Output Shape      </span>┃<span style=\"font-weight: bold\">    Param # </span>┃<span style=\"font-weight: bold\"> Connected to      </span>┃\n",
       "┡━━━━━━━━━━━━━━━━━━━━━╇━━━━━━━━━━━━━━━━━━━╇━━━━━━━━━━━━╇━━━━━━━━━━━━━━━━━━━┩\n",
       "│ text (<span style=\"color: #0087ff; text-decoration-color: #0087ff\">InputLayer</span>)   │ (<span style=\"color: #00d7ff; text-decoration-color: #00d7ff\">None</span>)            │          <span style=\"color: #00af00; text-decoration-color: #00af00\">0</span> │ -                 │\n",
       "├─────────────────────┼───────────────────┼────────────┼───────────────────┤\n",
       "│ bert_text_classifi… │ [(<span style=\"color: #00d7ff; text-decoration-color: #00d7ff\">None</span>, <span style=\"color: #00af00; text-decoration-color: #00af00\">512</span>),     │          <span style=\"color: #00af00; text-decoration-color: #00af00\">0</span> │ text[<span style=\"color: #00af00; text-decoration-color: #00af00\">0</span>][<span style=\"color: #00af00; text-decoration-color: #00af00\">0</span>]        │\n",
       "│ (<span style=\"color: #0087ff; text-decoration-color: #0087ff\">BertTextClassifie…</span> │ (<span style=\"color: #00d7ff; text-decoration-color: #00d7ff\">None</span>, <span style=\"color: #00af00; text-decoration-color: #00af00\">512</span>),      │            │                   │\n",
       "│                     │ (<span style=\"color: #00d7ff; text-decoration-color: #00d7ff\">None</span>, <span style=\"color: #00af00; text-decoration-color: #00af00\">512</span>)]      │            │                   │\n",
       "├─────────────────────┼───────────────────┼────────────┼───────────────────┤\n",
       "│ bert_backbone       │ [(<span style=\"color: #00d7ff; text-decoration-color: #00d7ff\">None</span>, <span style=\"color: #00af00; text-decoration-color: #00af00\">768</span>),     │ <span style=\"color: #00af00; text-decoration-color: #00af00\">109,482,2…</span> │ bert_text_classi… │\n",
       "│ (<span style=\"color: #0087ff; text-decoration-color: #0087ff\">BertBackbone</span>)      │ (<span style=\"color: #00d7ff; text-decoration-color: #00d7ff\">None</span>, <span style=\"color: #00af00; text-decoration-color: #00af00\">512</span>, <span style=\"color: #00af00; text-decoration-color: #00af00\">768</span>)] │            │ bert_text_classi… │\n",
       "│                     │                   │            │ bert_text_classi… │\n",
       "├─────────────────────┼───────────────────┼────────────┼───────────────────┤\n",
       "│ dropout (<span style=\"color: #0087ff; text-decoration-color: #0087ff\">Dropout</span>)   │ (<span style=\"color: #00d7ff; text-decoration-color: #00d7ff\">None</span>, <span style=\"color: #00af00; text-decoration-color: #00af00\">768</span>)       │          <span style=\"color: #00af00; text-decoration-color: #00af00\">0</span> │ bert_backbone[<span style=\"color: #00af00; text-decoration-color: #00af00\">0</span>]… │\n",
       "├─────────────────────┼───────────────────┼────────────┼───────────────────┤\n",
       "│ output (<span style=\"color: #0087ff; text-decoration-color: #0087ff\">Dense</span>)      │ (<span style=\"color: #00d7ff; text-decoration-color: #00d7ff\">None</span>, <span style=\"color: #00af00; text-decoration-color: #00af00\">1</span>)         │        <span style=\"color: #00af00; text-decoration-color: #00af00\">769</span> │ dropout[<span style=\"color: #00af00; text-decoration-color: #00af00\">0</span>][<span style=\"color: #00af00; text-decoration-color: #00af00\">0</span>]     │\n",
       "└─────────────────────┴───────────────────┴────────────┴───────────────────┘\n",
       "</pre>\n"
      ],
      "text/plain": [
       "┏━━━━━━━━━━━━━━━━━━━━━┳━━━━━━━━━━━━━━━━━━━┳━━━━━━━━━━━━┳━━━━━━━━━━━━━━━━━━━┓\n",
       "┃\u001b[1m \u001b[0m\u001b[1mLayer (type)       \u001b[0m\u001b[1m \u001b[0m┃\u001b[1m \u001b[0m\u001b[1mOutput Shape     \u001b[0m\u001b[1m \u001b[0m┃\u001b[1m \u001b[0m\u001b[1m   Param #\u001b[0m\u001b[1m \u001b[0m┃\u001b[1m \u001b[0m\u001b[1mConnected to     \u001b[0m\u001b[1m \u001b[0m┃\n",
       "┡━━━━━━━━━━━━━━━━━━━━━╇━━━━━━━━━━━━━━━━━━━╇━━━━━━━━━━━━╇━━━━━━━━━━━━━━━━━━━┩\n",
       "│ text (\u001b[38;5;33mInputLayer\u001b[0m)   │ (\u001b[38;5;45mNone\u001b[0m)            │          \u001b[38;5;34m0\u001b[0m │ -                 │\n",
       "├─────────────────────┼───────────────────┼────────────┼───────────────────┤\n",
       "│ bert_text_classifi… │ [(\u001b[38;5;45mNone\u001b[0m, \u001b[38;5;34m512\u001b[0m),     │          \u001b[38;5;34m0\u001b[0m │ text[\u001b[38;5;34m0\u001b[0m][\u001b[38;5;34m0\u001b[0m]        │\n",
       "│ (\u001b[38;5;33mBertTextClassifie…\u001b[0m │ (\u001b[38;5;45mNone\u001b[0m, \u001b[38;5;34m512\u001b[0m),      │            │                   │\n",
       "│                     │ (\u001b[38;5;45mNone\u001b[0m, \u001b[38;5;34m512\u001b[0m)]      │            │                   │\n",
       "├─────────────────────┼───────────────────┼────────────┼───────────────────┤\n",
       "│ bert_backbone       │ [(\u001b[38;5;45mNone\u001b[0m, \u001b[38;5;34m768\u001b[0m),     │ \u001b[38;5;34m109,482,2…\u001b[0m │ bert_text_classi… │\n",
       "│ (\u001b[38;5;33mBertBackbone\u001b[0m)      │ (\u001b[38;5;45mNone\u001b[0m, \u001b[38;5;34m512\u001b[0m, \u001b[38;5;34m768\u001b[0m)] │            │ bert_text_classi… │\n",
       "│                     │                   │            │ bert_text_classi… │\n",
       "├─────────────────────┼───────────────────┼────────────┼───────────────────┤\n",
       "│ dropout (\u001b[38;5;33mDropout\u001b[0m)   │ (\u001b[38;5;45mNone\u001b[0m, \u001b[38;5;34m768\u001b[0m)       │          \u001b[38;5;34m0\u001b[0m │ bert_backbone[\u001b[38;5;34m0\u001b[0m]… │\n",
       "├─────────────────────┼───────────────────┼────────────┼───────────────────┤\n",
       "│ output (\u001b[38;5;33mDense\u001b[0m)      │ (\u001b[38;5;45mNone\u001b[0m, \u001b[38;5;34m1\u001b[0m)         │        \u001b[38;5;34m769\u001b[0m │ dropout[\u001b[38;5;34m0\u001b[0m][\u001b[38;5;34m0\u001b[0m]     │\n",
       "└─────────────────────┴───────────────────┴────────────┴───────────────────┘\n"
      ]
     },
     "metadata": {},
     "output_type": "display_data"
    },
    {
     "data": {
      "text/html": [
       "<pre style=\"white-space:pre;overflow-x:auto;line-height:normal;font-family:Menlo,'DejaVu Sans Mono',consolas,'Courier New',monospace\"><span style=\"font-weight: bold\"> Total params: </span><span style=\"color: #00af00; text-decoration-color: #00af00\">109,483,009</span> (417.64 MB)\n",
       "</pre>\n"
      ],
      "text/plain": [
       "\u001b[1m Total params: \u001b[0m\u001b[38;5;34m109,483,009\u001b[0m (417.64 MB)\n"
      ]
     },
     "metadata": {},
     "output_type": "display_data"
    },
    {
     "data": {
      "text/html": [
       "<pre style=\"white-space:pre;overflow-x:auto;line-height:normal;font-family:Menlo,'DejaVu Sans Mono',consolas,'Courier New',monospace\"><span style=\"font-weight: bold\"> Trainable params: </span><span style=\"color: #00af00; text-decoration-color: #00af00\">109,483,009</span> (417.64 MB)\n",
       "</pre>\n"
      ],
      "text/plain": [
       "\u001b[1m Trainable params: \u001b[0m\u001b[38;5;34m109,483,009\u001b[0m (417.64 MB)\n"
      ]
     },
     "metadata": {},
     "output_type": "display_data"
    },
    {
     "data": {
      "text/html": [
       "<pre style=\"white-space:pre;overflow-x:auto;line-height:normal;font-family:Menlo,'DejaVu Sans Mono',consolas,'Courier New',monospace\"><span style=\"font-weight: bold\"> Non-trainable params: </span><span style=\"color: #00af00; text-decoration-color: #00af00\">0</span> (0.00 B)\n",
       "</pre>\n"
      ],
      "text/plain": [
       "\u001b[1m Non-trainable params: \u001b[0m\u001b[38;5;34m0\u001b[0m (0.00 B)\n"
      ]
     },
     "metadata": {},
     "output_type": "display_data"
    }
   ],
   "source": [
    "model.summary()"
   ]
  },
  {
   "cell_type": "markdown",
   "metadata": {},
   "source": []
  },
  {
   "cell_type": "code",
   "execution_count": null,
   "metadata": {},
   "outputs": [
    {
     "ename": "",
     "evalue": "",
     "output_type": "error",
     "traceback": [
      "\u001b[1;31mThe Kernel crashed while executing code in the current cell or a previous cell. \n",
      "\u001b[1;31mPlease review the code in the cell(s) to identify a possible cause of the failure. \n",
      "\u001b[1;31mClick <a href='https://aka.ms/vscodeJupyterKernelCrash'>here</a> for more info. \n",
      "\u001b[1;31mView Jupyter <a href='command:jupyter.viewOutput'>log</a> for further details."
     ]
    }
   ],
   "source": [
    "METRICS=[\n",
    "    tf.keras.metrics.BinaryAccuracy(name='accuracy'),\n",
    "    tf.keras.metrics.Precision(name='precision'),\n",
    "    tf.keras.metrics.Recall(name='recall')\n",
    "]\n",
    "model.compile(optimizer='adam',loss='binary_crossentropy',metrics=METRICS)"
   ]
  },
  {
   "cell_type": "code",
   "execution_count": null,
   "metadata": {},
   "outputs": [
    {
     "name": "stdout",
     "output_type": "stream",
     "text": [
      "Epoch 1/10\n"
     ]
    },
    {
     "name": "stderr",
     "output_type": "stream",
     "text": [
      "/workspaces/keras-exercise/lib/python3.12/site-packages/keras/src/models/functional.py:225: UserWarning: The structure of `inputs` doesn't match the expected structure: ['text']. Received: the structure of inputs=*\n",
      "  warnings.warn(\n"
     ]
    }
   ],
   "source": [
    "model.fit(X_train,y_train,epochs=10)"
   ]
  },
  {
   "cell_type": "code",
   "execution_count": null,
   "metadata": {},
   "outputs": [],
   "source": [
    "y_predicted=model.preduct(X_test)\n",
    "y_predicted=y_predicted.flatten()"
   ]
  },
  {
   "cell_type": "code",
   "execution_count": null,
   "metadata": {},
   "outputs": [],
   "source": [
    "import numpy as np\n",
    "y_predicted=np.where(y_predicted>0.5,1,0)\n",
    "y_predicted"
   ]
  },
  {
   "cell_type": "code",
   "execution_count": null,
   "metadata": {},
   "outputs": [],
   "source": [
    "from sklearn.metrics import confusion_matrix,classification_report\n",
    "cm=confusion_matrix(y_test,y_predicted)\n",
    "cm"
   ]
  },
  {
   "cell_type": "code",
   "execution_count": null,
   "metadata": {},
   "outputs": [],
   "source": [
    "from matplotlib import pyplot as plt\n",
    "import seaborn as sn\n",
    "sn.heatmap(cm,annot=True,fmt='d')\n",
    "plt.xlabel('Predicted')\n",
    "plt.ylabel('Truth')"
   ]
  },
  {
   "cell_type": "code",
   "execution_count": null,
   "metadata": {},
   "outputs": [],
   "source": [
    "print(classification_report(y_test,y_predicted))"
   ]
  },
  {
   "cell_type": "code",
   "execution_count": null,
   "metadata": {},
   "outputs": [],
   "source": []
  }
 ],
 "metadata": {
  "kernelspec": {
   "display_name": "keras-exercise",
   "language": "python",
   "name": "python3"
  },
  "language_info": {
   "codemirror_mode": {
    "name": "ipython",
    "version": 3
   },
   "file_extension": ".py",
   "mimetype": "text/x-python",
   "name": "python",
   "nbconvert_exporter": "python",
   "pygments_lexer": "ipython3",
   "version": "3.12.8"
  }
 },
 "nbformat": 4,
 "nbformat_minor": 2
}
